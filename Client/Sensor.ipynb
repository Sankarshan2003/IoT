{
 "cells": [
  {
   "cell_type": "code",
   "execution_count": 6,
   "metadata": {},
   "outputs": [
    {
     "name": "stdout",
     "output_type": "stream",
     "text": [
      "   _id    SerialNo            Timestamp  Temperature  Humidity  latitude  \\\n",
      "0    1  1392904597  2014-02-20T19:26:37         29.4        73  13.00361   \n",
      "1    2  1392904853  2014-02-20T19:30:53         30.1        61  13.00361   \n",
      "2    3  1392904956  2014-02-20T19:32:36         30.4        59  13.00361   \n",
      "3    4  1392905507  2014-02-20T19:41:47         30.4        49  13.00361   \n",
      "4    5  1392905712  2014-02-20T19:45:12         30.0        57  13.00361   \n",
      "\n",
      "   longitude  \n",
      "0   77.61818  \n",
      "1   77.61818  \n",
      "2   77.61818  \n",
      "3   77.61818  \n",
      "4   77.61818  \n",
      "(2307, 7)\n"
     ]
    }
   ],
   "source": [
    "import paho.mqtt.client as mqtt\n",
    "import time\n",
    "import random\n",
    "import json\n",
    "import time\n",
    "import pandas as pd\n",
    "Dataset = pd.read_csv('dataset.csv')\n",
    "Dataset = Dataset.rename(columns={'Serial No':'SerialNo'})\n",
    "print(Dataset.head())\n",
    "print(Dataset.shape)"
   ]
  },
  {
   "cell_type": "code",
   "execution_count": 7,
   "metadata": {},
   "outputs": [
    {
     "name": "stdout",
     "output_type": "stream",
     "text": [
      "Connecting to broker\n"
     ]
    },
    {
     "data": {
      "text/plain": [
       "<MQTTErrorCode.MQTT_ERR_SUCCESS: 0>"
      ]
     },
     "execution_count": 7,
     "metadata": {},
     "output_type": "execute_result"
    },
    {
     "name": "stdout",
     "output_type": "stream",
     "text": [
      "Connected OK\n"
     ]
    }
   ],
   "source": [
    "def on_connect(client, userdata, flags, rc, properties):\n",
    "    if (rc == 0):\n",
    "        print(\"Connected OK\")\n",
    "    else:\n",
    "        print(\"Unable to connect\", rc)\n",
    "\n",
    "broker = \"broker.mqttdashboard.com\"\n",
    "client = mqtt.Client(mqtt.CallbackAPIVersion.VERSION2)\n",
    "client.subscribe(\"SankyIOT/weather\")\n",
    "\n",
    "print(\"Connecting to broker\")\n",
    "client.connect(broker)\n",
    "client.on_connect = on_connect\n",
    "client.loop_start()"
   ]
  },
  {
   "cell_type": "code",
   "execution_count": 13,
   "metadata": {},
   "outputs": [
    {
     "ename": "KeyboardInterrupt",
     "evalue": "",
     "output_type": "error",
     "traceback": [
      "\u001b[1;31m---------------------------------------------------------------------------\u001b[0m",
      "\u001b[1;31mKeyboardInterrupt\u001b[0m                         Traceback (most recent call last)",
      "Cell \u001b[1;32mIn[13], line 5\u001b[0m\n\u001b[0;32m      3\u001b[0m data_string \u001b[38;5;241m=\u001b[39m json\u001b[38;5;241m.\u001b[39mdumps(row_json)\n\u001b[0;32m      4\u001b[0m client\u001b[38;5;241m.\u001b[39mpublish(\u001b[38;5;124m\"\u001b[39m\u001b[38;5;124mSankyIOT/Weather\u001b[39m\u001b[38;5;124m\"\u001b[39m, data_string, \u001b[38;5;241m2\u001b[39m, \u001b[38;5;28;01mTrue\u001b[39;00m)\n\u001b[1;32m----> 5\u001b[0m time\u001b[38;5;241m.\u001b[39msleep(\u001b[38;5;241m5\u001b[39m)\n",
      "\u001b[1;31mKeyboardInterrupt\u001b[0m: "
     ]
    }
   ],
   "source": [
    "for i in range(1, Dataset.shape[0]):\n",
    "    row_json = Dataset.iloc[i].to_json()\n",
    "    data_string = json.dumps(row_json)\n",
    "    client.publish(\"SankyIOT/Weather\", data_string, 2, True)\n",
    "    time.sleep(5)"
   ]
  }
 ],
 "metadata": {
  "kernelspec": {
   "display_name": "Iot",
   "language": "python",
   "name": "python3"
  },
  "language_info": {
   "codemirror_mode": {
    "name": "ipython",
    "version": 3
   },
   "file_extension": ".py",
   "mimetype": "text/x-python",
   "name": "python",
   "nbconvert_exporter": "python",
   "pygments_lexer": "ipython3",
   "version": "3.12.2"
  }
 },
 "nbformat": 4,
 "nbformat_minor": 2
}
